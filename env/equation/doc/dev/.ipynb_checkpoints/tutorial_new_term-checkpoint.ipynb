{
 "cells": [
  {
   "cell_type": "code",
   "execution_count": 1,
   "metadata": {
    "collapsed": false
   },
   "outputs": [
    {
     "name": "stdout",
     "output_type": "stream",
     "text": [
      "/home/valdecar/Documents/projects/project/parser/\n"
     ]
    }
   ],
   "source": [
    "import os\n",
    "import sys\n",
    "import inspect\n",
    "currentdir = os.path.dirname(os.path.abspath(inspect.getfile(inspect.currentframe())))\n",
    "parentdir = os.path.dirname(currentdir)\n",
    "folder = \"env\"\n",
    "sourcedir = currentdir.split(folder)[0]\n",
    "sys.path.insert(0, sourcedir)\n",
    "# from env.equation.equation import Equation\n",
    "print(sourcedir)"
   ]
  },
  {
   "cell_type": "markdown",
   "metadata": {},
   "source": [
    "### Добавление нового терма\n",
    "Вызов метода (свойства) объекта: a.t, a.t(), a.t(f), a.t().t() "
   ]
  },
  {
   "cell_type": "markdown",
   "metadata": {},
   "source": [
    "Чтобы добавить новый терм в Equation нужно:</br>\n",
    "> 1) Добавить input pattern в data/terms/input/wolfram/patterns\n",
    "\n",
    "> 2) Добавить terms_for_args в data/terms/args\n",
    "\n",
    "> 3) Добавить slambda pattern в data/terms/slambda/sympy/patterns\n",
    "\n",
    "Второй шаг необходим, поскольку терм a.t содержит аргумент (a) и не является скобочным (извлечение аргументов из скобочных термов производиться автоматически при преобразовании дерева разбора в дерево операций). Можно было бы сделать терм a.t тоже скобочным, но тогда он должен бы иметь вид t(a). \n",
    "<br>\n",
    "Отделение аргумента необходимо т.к. мы хотим получить возможность подстановки типа<br>\n",
    "> `Equation(\"a.t() = a\").subs(a=sympy.Matrix([[0,1],[-1, 0]]))` \n",
    "\n",
    "Иначе при подстановке заменяться будет все выражение a.t()"
   ]
  },
  {
   "cell_type": "markdown",
   "metadata": {},
   "source": [
    "##### 1) Добавление input pattern"
   ]
  },
  {
   "cell_type": "markdown",
   "metadata": {},
   "source": [
    "Для этого создается класс в data/terms/input/wolfram/patterns в методе `__call__` которого должен возвращаться re pattern:<br>\n",
    "```\n",
    "\n",
    "    def __init__(self, net):\n",
    "        self.net = net\n",
    "        self.id = 'dot'\n",
    "        self.init_pattern()\n",
    "\n",
    "    def init_pattern(self):\n",
    "        \n",
    "        self.obj = \"(?P<obj>\\w+)\"\n",
    "        self.arg = \"(?P<arg>\\w+)?\"\n",
    "\n",
    "        # find ()\n",
    "        self.call = \"(?P<call>\\(%s\\))?\" % (self.arg)\n",
    "    \n",
    "        # find a.t, a.t(), a.t(), a.t().c()\n",
    "        # but not a.1(), a.1:\n",
    "        self.main = r\"%s(\\.([a-zA-Z])+%s)+\" % (self.obj, self.call)\n",
    "        \n",
    "        self.gen = lambda: self.main\n",
    "\n",
    "    def __call__(self):\n",
    "        return(self.gen())\n",
    "```\n",
    "При задании re patterna важно, чтобы он не находил другие похожие термы. В данном случае если вместо [a-zA-Z] в `self.main` подставить \\w то tokenizer будет также распозновать терм float (1.1). <br>\n",
    "Важно также задать идентификатор терма (`self.id='dot'`)<br><br>\n",
    "\n",
    "После создания patterna необходимо добавить его в три списка файла `data/terms/input/wolfram/lex_net_wolfram.py`: \n",
    "> terms_gens - для tokenizera:<br>\n",
    ">>        terms_gens = [Base, ArgInt, ArgFloat, ArgDelay, ArgTime,\n",
    "                      Var, VarBdp, Coeffs, Bdp, Diff, Pow, Func,\n",
    "                      FreeVar, Time, DiffTimeVar, Dot]\n",
    "\n",
    "\n",
    "> patterns_order - для приоритета терма с другими   \n",
    ">>        patterns_order = ['diff',\n",
    "                          'bdp',\n",
    "                          'dot',\n",
    "                          'func',\n",
    "                          'diff_time',\n",
    "                          'var',\n",
    "                          'free_var',\n",
    "                          'time',\n",
    "                          'coeffs',\n",
    "                          'pow',\n",
    "                          'float']\n",
    "\n",
    "> map_ptg - отображения lex терма в терм грамматики\n",
    ">>         map_ptg = dict([('diff', 'a'),\n",
    "                        ('bdp', 'a'),\n",
    "                        ('diff_time', 'a'),\n",
    "                        ('var', 'a'),\n",
    "                        ('free_var', 'a'),\n",
    "                        ('time', 'a'),\n",
    "                        ('coeffs', 'a'),\n",
    "                        ('pow', 'w'),\n",
    "                        ('func', 'f'),\n",
    "                        ('float', 'a'),\n",
    "                        ('dot', 'a')])\n",
    "\n",
    "После этого уже можно построить дерево операций:"
   ]
  },
  {
   "cell_type": "code",
   "execution_count": 5,
   "metadata": {
    "collapsed": false
   },
   "outputs": [
    {
     "name": "stdout",
     "output_type": "stream",
     "text": [
      "sent_left\n",
      "['(', 'a', ')']\n",
      "=\n",
      "child 0: br\n",
      "   child 0: (\n",
      "   child 1: args\n",
      "      child 0: a\n",
      "   child 2: )\n",
      "child 1: br\n",
      "   child 0: (\n",
      "   child 1: args\n",
      "      child 0: a\n",
      "   child 2: )\n",
      "(a.t())=(a)\n"
     ]
    }
   ],
   "source": [
    "from env.equation.equation import Equation\n",
    "eq = Equation(\"a.t() = a\")\n",
    "eq.parser.parse()\n",
    "print(eq.eq_tree)\n"
   ]
  },
  {
   "cell_type": "markdown",
   "metadata": {},
   "source": [
    "Однако терм dot здесь представлен его значением в грамматике (map_ptg образ):"
   ]
  },
  {
   "cell_type": "code",
   "execution_count": 10,
   "metadata": {
    "collapsed": false
   },
   "outputs": [
    {
     "name": "stdout",
     "output_type": "stream",
     "text": [
      "['a.t()', <_sre.SRE_Match object; span=(1, 6), match='a.t()'>, 'dot']\n"
     ]
    }
   ],
   "source": [
    "print(eq.eq_tree[1][1][0].name.lex)"
   ]
  },
  {
   "cell_type": "markdown",
   "metadata": {},
   "source": [
    "##### 2) Отделение терма от его аргумента:"
   ]
  },
  {
   "cell_type": "markdown",
   "metadata": {},
   "source": [
    "Чтобы выделить аргумент из вершины в отдельную вершину графа нужно добавить терм в\n",
    " data/terms/args/terms_for_args:<br>\n",
    "> ```terms_for_args = {'dot':\n",
    "                       {'child_name': lambda node: node.name.lex[1].group('obj'),\n",
    "                        'child_term_id': 'free_var',\n",
    "                        'editor': dot_editor}}\n",
    "  ```\n",
    "\n",
    "Здесь child_name child_term_id это значение и идентификатор будующей вершины в дереве, dot_editor используется для замены значения исходного терма с a.t() на .t()\n",
    "```\n",
    "def dot_editor(self, node):\n",
    "\n",
    "    '''remove arg from node (a.t -> .t)\n",
    "    for output generator'''\n",
    "    \n",
    "    val = node.name.lex[0]\n",
    "    obj = node.name.lex[1].group('obj')\n",
    "    node.name.lex[0] = val.replace(obj, \"\")\n",
    "```\n",
    "\n",
    "После этого разделение происходит в `get_args`  с помощью `ArgGen` файле  `data/terms/args/extractor`:"
   ]
  },
  {
   "cell_type": "code",
   "execution_count": 14,
   "metadata": {
    "collapsed": false
   },
   "outputs": [
    {
     "name": "stdout",
     "output_type": "stream",
     "text": [
      "a\n",
      "child 0: a\n",
      "['.t()', <_sre.SRE_Match object; span=(1, 6), match='a.t()'>, 'dot']\n",
      "['a', None, 'free_var']\n"
     ]
    }
   ],
   "source": [
    "eq.args_editor.get_args()\n",
    "print(eq.eq_tree[1])\n",
    "print(eq.eq_tree[1].name.lex)\n",
    "print(eq.eq_tree[1][0].name.lex)"
   ]
  },
  {
   "cell_type": "markdown",
   "metadata": {},
   "source": [
    "##### 3) Добавление sympy представления:\n",
    "\n",
    "Для этого нужно добавить данные терма в `terms_gens_id` в файл `data/terms/slambda/sympy/patterns/ids/_list_ids.py`. Здесь в основном все сводиться к выражению:\n",
    "> out = lambda X: X.transpose()\n",
    "\n",
    "в классе `DotTranspose` в файле `data/terms/slambda/sympy/patterns/ids/dot.py`<br><br>\n",
    "Теперь можно выполнить выражение:"
   ]
  },
  {
   "cell_type": "code",
   "execution_count": 20,
   "metadata": {
    "collapsed": false
   },
   "outputs": [
    {
     "name": "stdout",
     "output_type": "stream",
     "text": [
      "slambda:\n",
      "<function EqSlambda.lambdify.<locals>.<lambda> at 0x7f0239d76c80>\n",
      "\n",
      "result for:\n",
      "Matrix([[0, -1], [1, 0]])\n",
      "is:\n",
      "False\n",
      "\n",
      "result for:\n",
      "Matrix([[0, 1], [1, 0]])\n",
      "is:\n",
      "True\n",
      "\n",
      "sympy\n",
      "a.t()=(a)\n"
     ]
    }
   ],
   "source": [
    "import sympy\n",
    "\n",
    "eq.args_editor.get_vars()\n",
    "\n",
    "a = sympy.Matrix([[0, -1], [1, 0]])\n",
    "eq.args_editor.subs(a=a)\n",
    "\n",
    "eq.slambda.sympy.lambdify_sem()\n",
    "out_a = eq.slambda.sympy.lambdify()\n",
    "print(\"slambda:\")\n",
    "print(out_a)\n",
    "\n",
    "b = sympy.Matrix([[0, 1], [1, 0]])\n",
    "eq.args_editor.subs(a=b)\n",
    "\n",
    "eq.slambda.sympy.lambdify_sem()\n",
    "out_b = eq.slambda.sympy.lambdify()\n",
    "\n",
    "print(\"\\nresult for:\")\n",
    "print(a)\n",
    "print(\"is:\")\n",
    "print(out_a())\n",
    "\n",
    "print(\"\\nresult for:\")\n",
    "print(b)\n",
    "print(\"is:\")\n",
    "print(out_b())\n",
    "\n",
    "eq.replacer.sympy.make_sympy()\n",
    "\n",
    "print(\"\\nsympy\")\n",
    "print(eq.tree.flatten('sympy'))\n"
   ]
  },
  {
   "cell_type": "markdown",
   "metadata": {},
   "source": [
    "При генерации последнего выражения использовалось оригинальное значение (если нет терма в `data/terms/output/sympy/patterns`)"
   ]
  },
  {
   "cell_type": "code",
   "execution_count": null,
   "metadata": {
    "collapsed": true
   },
   "outputs": [],
   "source": []
  }
 ],
 "metadata": {
  "kernelspec": {
   "display_name": "Python 3",
   "language": "python",
   "name": "python3"
  },
  "language_info": {
   "codemirror_mode": {
    "name": "ipython",
    "version": 3
   },
   "file_extension": ".py",
   "mimetype": "text/x-python",
   "name": "python",
   "nbconvert_exporter": "python",
   "pygments_lexer": "ipython3",
   "version": "3.6.0"
  }
 },
 "nbformat": 4,
 "nbformat_minor": 2
}
