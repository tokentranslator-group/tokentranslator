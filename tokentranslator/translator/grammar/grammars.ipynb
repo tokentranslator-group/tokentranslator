{
 "cells": [
  {
   "cell_type": "code",
   "execution_count": 1,
   "metadata": {
    "collapsed": true
   },
   "outputs": [],
   "source": [
    "import grammars1 as gm\n",
    "import matplotlib.pyplot as plt"
   ]
  },
  {
   "cell_type": "markdown",
   "metadata": {},
   "source": [
    "Define grammar for test and it's transition/emission probabilities:"
   ]
  },
  {
   "cell_type": "code",
   "execution_count": 2,
   "metadata": {
    "collapsed": true
   },
   "outputs": [],
   "source": [
    "grammar31 = [('E', 'AE'), ('E', 'BE'), ('E', 'e'),\n",
    "             ('A', 'AE'), ('A', 'a'), ('A', 'e'),\n",
    "             ('B', 'BE'), ('B', 'AE'), ('B', 'b')]\n",
    "\n",
    "ts31 = {\n",
    "    ('E', 'AE'): 1/4, ('E', 'BE'): 1/4, ('E', 'e'): 1/2,\n",
    "    ('A', 'AE'): 8/27, ('A', 'a'): 2/3, ('A', 'e'): 1/27,\n",
    "    ('B', 'BE'): 26/81, ('B', 'AE'): 1/81, ('B', 'b'): 2/3\n",
    "}\n"
   ]
  },
  {
   "cell_type": "markdown",
   "metadata": {},
   "source": [
    "Inside algorithm (see. Durbin p. 254):<br><br>\n",
    "\n",
    "init:<br>\n",
    "$\\alpha(:, i, i)=e_{v}(x_{i})$<br>\n",
    "main:<br>\n",
    "$\\alpha(v, i, j)=\\sum_{y=1}^{M}\\sum_{z=1}^{M}\\sum_{k=i}^{j-1}\\alpha(y, i, k)\\alpha(z, k+1, j)t_{v}(y,z)$<br>\n",
    "termination:<br>\n",
    "$P(x|\\theta)=\\alpha(1,L,1)$\n"
   ]
  },
  {
   "cell_type": "code",
   "execution_count": 3,
   "metadata": {},
   "outputs": [],
   "source": [
    "ires = gm.inside(sent=list('aae'), grammar=grammar31,\n",
    "                 ts=ts31, debug=False)\n",
    "p, alpha = ires"
   ]
  },
  {
   "cell_type": "code",
   "execution_count": 4,
   "metadata": {},
   "outputs": [
    {
     "name": "stdout",
     "output_type": "stream",
     "text": [
      "alpha:\n",
      "[[[0.         0.         0.01388889]\n",
      "  [0.         0.         0.08333333]\n",
      "  [0.         0.         0.5       ]]\n",
      "\n",
      " [[0.66666667 0.         0.01646091]\n",
      "  [0.         0.66666667 0.09876543]\n",
      "  [0.         0.         0.03703704]]\n",
      "\n",
      " [[0.         0.         0.00068587]\n",
      "  [0.         0.         0.00411523]\n",
      "  [0.         0.         0.        ]]]\n"
     ]
    }
   ],
   "source": [
    "print(\"alpha:\")\n",
    "print(alpha)"
   ]
  },
  {
   "cell_type": "code",
   "execution_count": 5,
   "metadata": {},
   "outputs": [
    {
     "name": "stdout",
     "output_type": "stream",
     "text": [
      "p(sent|grammar) = alpha(1, L, 1):\n",
      "0.013888888888888888\n"
     ]
    }
   ],
   "source": [
    "print(\"p(sent|grammar) = alpha(1, L, 1):\")\n",
    "print(p)"
   ]
  },
  {
   "cell_type": "markdown",
   "metadata": {},
   "source": [
    "Outside algorithm (see. Durbin p. 255):<br><br>\n",
    "init:<br>\n",
    "$\\beta(\"E\", 1, L)=1$<br>\n",
    "$\\beta(:, 1, L)=0$<br>\n",
    "main:<br>\n",
    "$\\beta(v, i, j)=\\sum_{y,z}\\sum_{k=1}^{i-1}\\alpha(z, k, i-1)\\beta(y, k, j)t_{y}(z,v)\n",
    "     +\\sum_{y,z}\\sum_{k=j+1}^{L}\\alpha(z, j+1, k)\\beta(y, i, k)t_{y}(v,z)$<br>\n",
    "termination:<br>\n",
    "$P(x|\\theta)=\\sum_{v=1}^{M}\\beta(v,i,i)e_{v}(x_{i})$"
   ]
  },
  {
   "cell_type": "code",
   "execution_count": 6,
   "metadata": {},
   "outputs": [],
   "source": [
    "ores = gm.outside(alpha, sent=list(\"aae\"), grammar=grammar31,\n",
    "                  ts=ts31, debug=False)\n",
    "pb, beta = ores"
   ]
  },
  {
   "cell_type": "code",
   "execution_count": 7,
   "metadata": {},
   "outputs": [
    {
     "name": "stdout",
     "output_type": "stream",
     "text": [
      "beta:\n",
      "[[[0.         0.         1.        ]\n",
      "  [0.         0.02572016 0.16666667]\n",
      "  [0.         0.         0.02777778]]\n",
      "\n",
      " [[0.02083333 0.125      0.        ]\n",
      "  [0.         0.02083333 0.        ]\n",
      "  [0.         0.         0.        ]]\n",
      "\n",
      " [[0.02083333 0.125      0.        ]\n",
      "  [0.         0.02083333 0.        ]\n",
      "  [0.         0.         0.        ]]]\n"
     ]
    }
   ],
   "source": [
    "print(\"beta:\")\n",
    "print(beta)"
   ]
  },
  {
   "cell_type": "code",
   "execution_count": 8,
   "metadata": {},
   "outputs": [
    {
     "name": "stdout",
     "output_type": "stream",
     "text": [
      "p(sent|grammar) = \\sum_{v \\in [1 .. M]} beta(i, i, v) * e_{v}(x_{i}):\n",
      "[0.013888888888888888, 0.013888888888888888, 0.013888888888888888]\n"
     ]
    }
   ],
   "source": [
    "print(\"p(sent|grammar) = \\sum_{v \\in [1 .. M]} beta(i, i, v) * e_{v}(x_{i}):\")\n",
    "print(pb)"
   ]
  },
  {
   "cell_type": "markdown",
   "metadata": {},
   "source": [
    "EM algorithm (see. Durbin p. 255):<br><br>\n",
    "$t_{v}(y, z) = \\frac{c(v->yz)}{c(v)}$<br>\n",
    "$e_{v}(a) = \\frac{c(v->a)}{c(v)}$\n"
   ]
  },
  {
   "cell_type": "code",
   "execution_count": 9,
   "metadata": {},
   "outputs": [],
   "source": [
    "t, e, c, c_unterm, c_term = gm.em_step(alpha, beta, sent=list('aae'),\n",
    "                                    grammar=grammar31, ts=ts31,\n",
    "                                    debug=False)\n"
   ]
  },
  {
   "cell_type": "code",
   "execution_count": 10,
   "metadata": {},
   "outputs": [
    {
     "name": "stdout",
     "output_type": "stream",
     "text": [
      "estimated transitions:\n",
      "('E', 'AE') :  0.6666666666666666\n",
      "('E', 'BE') :  0.0\n",
      "('A', 'AE') :  0.0\n",
      "('B', 'BE') :  0\n",
      "('B', 'AE') :  0\n"
     ]
    }
   ],
   "source": [
    "print(\"estimated transitions:\")\n",
    "for rule in t:\n",
    "    print(rule, \": \", t[rule])\n"
   ]
  },
  {
   "cell_type": "code",
   "execution_count": 11,
   "metadata": {},
   "outputs": [
    {
     "name": "stdout",
     "output_type": "stream",
     "text": [
      "estimated emission:\n",
      "('E', 'e') :  0.3333333333333333\n",
      "('A', 'a') :  1.0\n",
      "('A', 'e') :  0.0\n",
      "('B', 'b') :  0\n"
     ]
    }
   ],
   "source": [
    "print(\"estimated emission:\")\n",
    "for rule in e:\n",
    "    print(rule, \": \", e[rule])\n"
   ]
  },
  {
   "cell_type": "markdown",
   "metadata": {},
   "source": [
    "All rules like $W_{v}->W_{y}W_{z}$ and $W_{v}-> a$ sum to 1 for same $W_{v}$:"
   ]
  },
  {
   "cell_type": "code",
   "execution_count": 12,
   "metadata": {},
   "outputs": [
    {
     "name": "stdout",
     "output_type": "stream",
     "text": [
      "1.0\n",
      "1.0\n",
      "0\n"
     ]
    }
   ],
   "source": [
    "for w in [\"E\", \"A\", \"B\"]:\n",
    "    print(sum([t[(v, yz)] for (v, yz) in t if v == w]\n",
    "               + [e[(v, x)] for (v, x) in e if v == w]))"
   ]
  },
  {
   "cell_type": "markdown",
   "metadata": {
    "collapsed": true
   },
   "source": [
    "#### EM alg:\n",
    "generate sentences, and lern SCFG grammar parameters for them"
   ]
  },
  {
   "cell_type": "markdown",
   "metadata": {},
   "source": [
    "1) generate sentences:"
   ]
  },
  {
   "cell_type": "code",
   "execution_count": 13,
   "metadata": {},
   "outputs": [
    {
     "name": "stdout",
     "output_type": "stream",
     "text": [
      "bbebebbbeebabababbeebaeaeaeebbeeaeaeebeebabe\n",
      "abe\n",
      "abaeabeae\n",
      "beebeaeeabeebaeaebee\n",
      "baebeeeae\n",
      "aebabe\n",
      "abe\n"
     ]
    }
   ],
   "source": [
    "grammar = grammar31\n",
    "ts_orign = ts31\n",
    "N = 20\n",
    "max_sent_len = 100\n",
    "# actualy not used\n",
    "sent_len = 4\n",
    "\n",
    "lsents = []\n",
    "idx_max_len = 0\n",
    "max_len = 0\n",
    "\n",
    "while len(lsents) < N:\n",
    "        lsent = gm.backward.gen_sent(grammar, sent_len, probs=ts_orign)\n",
    "\n",
    "        # exclude triviality:\n",
    "        len_lsent = len(lsent)\n",
    "        if (len_lsent > 1 and 'a' in lsent and 'b' in lsent\n",
    "            and len_lsent < max_sent_len):\n",
    "            lsents.append(lsent)\n",
    "            \n",
    "            # max len sent in front:\n",
    "            if len_lsent > max_len:\n",
    "                idx_max_len = len(lsents)-1\n",
    "                max_len = len_lsent\n",
    "\n",
    "# max len sent in front:\n",
    "# for all rules initiated at first\n",
    "# with no zero probabilities:\n",
    "max_sent = lsents.pop(idx_max_len)\n",
    "lsents.insert(0, max_sent)\n",
    "for lsent in lsents[:7]:\n",
    "    print(\"\".join(lsent))"
   ]
  },
  {
   "cell_type": "markdown",
   "metadata": {},
   "source": [
    "2) given sentences and random init SCFG, lern parameters:"
   ]
  },
  {
   "cell_type": "code",
   "execution_count": 14,
   "metadata": {},
   "outputs": [
    {
     "data": {
      "image/png": "[encoded data removed]",
      "text/plain": [
       "<matplotlib.figure.Figure at 0x7fa7226fdb38>"
      ]
     },
     "metadata": {},
     "output_type": "display_data"
    },
    {
     "name": "stdout",
     "output_type": "stream",
     "text": [
      "\n",
      "original ts:\n",
      "('E', 'AE') :  0.25\n",
      "('E', 'BE') :  0.25\n",
      "('E', 'e') :  0.5\n",
      "('A', 'AE') :  0.2962962962962963\n",
      "('A', 'a') :  0.6666666666666666\n",
      "('A', 'e') :  0.037037037037037035\n",
      "('B', 'BE') :  0.32098765432098764\n",
      "('B', 'AE') :  0.012345679012345678\n",
      "('B', 'b') :  0.6666666666666666\n",
      "lerned ts:\n",
      "('E', 'AE') :  0.24057302161788266\n",
      "('E', 'BE') :  0.436404612714747\n",
      "('E', 'e') :  0.3230223656673704\n",
      "('A', 'AE') :  0.007841228385544505\n",
      "('A', 'a') :  0.7551332233328191\n",
      "('A', 'e') :  0.2370255482816363\n",
      "('B', 'BE') :  0.18750040706920365\n",
      "('B', 'AE') :  0.23288155245010772\n",
      "('B', 'b') :  0.5796180404806887\n"
     ]
    }
   ],
   "source": [
    "ts, xs = gm.em(sents=lsents, grammar=grammar,\n",
    "               ts_orign=ts_orign, debug=False)\n",
    "\n",
    "plt.plot(xs.T)\n",
    "plt.show()\n",
    "\n",
    "print(\"\\noriginal ts:\")\n",
    "for rule in ts_orign:\n",
    "    print(rule, \": \", ts_orign[rule])\n",
    "print(\"lerned ts:\")\n",
    "for rule in ts_orign:\n",
    "    if rule in ts:\n",
    "        print(rule, \": \", ts[rule])\n",
    "    else:\n",
    "        pass\n",
    "        # print(rule, \": \", es[rule])\n"
   ]
  },
  {
   "cell_type": "markdown",
   "metadata": {},
   "source": [
    "#### Important note:\n",
    "Depend on init grammar lerned SCFG will be different <br>\n",
    "So there is strong dependece on init parameters"
   ]
  },
  {
   "cell_type": "code",
   "execution_count": null,
   "metadata": {
    "collapsed": true
   },
   "outputs": [],
   "source": []
  }
 ],
 "metadata": {
  "kernelspec": {
   "display_name": "Python [conda env:math]",
   "language": "python",
   "name": "conda-env-math-py"
  },
  "language_info": {
   "codemirror_mode": {
    "name": "ipython",
    "version": 3
   },
   "file_extension": ".py",
   "mimetype": "text/x-python",
   "name": "python",
   "nbconvert_exporter": "python",
   "pygments_lexer": "ipython3",
   "version": "3.6.2"
  }
 },
 "nbformat": 4,
 "nbformat_minor": 2
}
