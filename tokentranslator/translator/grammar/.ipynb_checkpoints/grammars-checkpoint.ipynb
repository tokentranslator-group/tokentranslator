{
 "cells": [
  {
   "cell_type": "code",
   "execution_count": 1,
   "metadata": {
    "collapsed": true
   },
   "outputs": [],
   "source": [
    "import grammars1 as gm\n",
    "import matplotlib.pyplot as plt"
   ]
  },
  {
   "cell_type": "markdown",
   "metadata": {},
   "source": [
    "Define grammar for test and it's transition/emission probabilities:"
   ]
  },
  {
   "cell_type": "code",
   "execution_count": 2,
   "metadata": {
    "collapsed": true
   },
   "outputs": [],
   "source": [
    "grammar31 = [('E', 'AE'), ('E', 'BE'), ('E', 'e'),\n",
    "             ('A', 'AE'), ('A', 'a'), ('A', 'e'),\n",
    "             ('B', 'BE'), ('B', 'AE'), ('B', 'b')]\n",
    "\n",
    "ts31 = {\n",
    "    ('E', 'AE'): 1/4, ('E', 'BE'): 1/4, ('E', 'e'): 1/2,\n",
    "    ('A', 'AE'): 8/27, ('A', 'a'): 2/3, ('A', 'e'): 1/27,\n",
    "    ('B', 'BE'): 26/81, ('B', 'AE'): 1/81, ('B', 'b'): 2/3\n",
    "}\n"
   ]
  },
  {
   "cell_type": "markdown",
   "metadata": {},
   "source": [
    "Inside algorithm (see. Durbin p. 254):<br><br>\n",
    "\n",
    "init:<br>\n",
    "$\\alpha(:, i, i)=e_{v}(x_{i})$<br>\n",
    "main:<br>\n",
    "$\\alpha(v, i, j)=\\sum_{y=1}^{M}\\sum_{z=1}^{M}\\sum_{k=i}^{j-1}\\alpha(y, i, k)\\alpha(z, k+1, j)t_{v}(y,z)$<br>\n",
    "termination:<br>\n",
    "$P(x|\\theta)=\\alpha(1,L,1)$\n"
   ]
  },
  {
   "cell_type": "code",
   "execution_count": 3,
   "metadata": {
    "collapsed": true
   },
   "outputs": [],
   "source": [
    "ires = gm.inside(sent=list('aae'), grammar=grammar31,\n",
    "                 ts=ts31, debug=False)\n",
    "p, alpha = ires"
   ]
  },
  {
   "cell_type": "code",
   "execution_count": 4,
   "metadata": {},
   "outputs": [
    {
     "name": "stdout",
     "output_type": "stream",
     "text": [
      "alpha:\n",
      "[[[0.         0.         0.01388889]\n",
      "  [0.         0.         0.08333333]\n",
      "  [0.         0.         0.5       ]]\n",
      "\n",
      " [[0.66666667 0.         0.01646091]\n",
      "  [0.         0.66666667 0.09876543]\n",
      "  [0.         0.         0.03703704]]\n",
      "\n",
      " [[0.         0.         0.00068587]\n",
      "  [0.         0.         0.00411523]\n",
      "  [0.         0.         0.        ]]]\n"
     ]
    }
   ],
   "source": [
    "print(\"alpha:\")\n",
    "print(alpha)"
   ]
  },
  {
   "cell_type": "code",
   "execution_count": 5,
   "metadata": {},
   "outputs": [
    {
     "name": "stdout",
     "output_type": "stream",
     "text": [
      "p(sent|grammar) = alpha(1, L, 1):\n",
      "0.013888888888888888\n"
     ]
    }
   ],
   "source": [
    "print(\"p(sent|grammar) = alpha(1, L, 1):\")\n",
    "print(p)"
   ]
  },
  {
   "cell_type": "markdown",
   "metadata": {},
   "source": [
    "Outside algorithm (see. Durbin p. 255):<br><br>\n",
    "init:<br>\n",
    "$\\beta(\"E\", 1, L)=1$<br>\n",
    "$\\beta(:, 1, L)=0$<br>\n",
    "main:<br>\n",
    "$\\beta(v, i, j)=\\sum_{y,z}\\sum_{k=1}^{i-1}\\alpha(z, k, i-1)\\beta(y, k, j)t_{y}(z,v)\n",
    "     +\\sum_{y,z}\\sum_{k=j+1}^{L}\\alpha(z, j+1, k)\\beta(y, i, k)t_{y}(v,z)$<br>\n",
    "termination:<br>\n",
    "$P(x|\\theta)=\\sum_{v=1}^{M}\\beta(v,i,i)e_{v}(x_{i})$"
   ]
  },
  {
   "cell_type": "code",
   "execution_count": 6,
   "metadata": {
    "collapsed": true
   },
   "outputs": [],
   "source": [
    "ores = gm.outside(alpha, sent=list(\"aae\"), grammar=grammar31,\n",
    "                  ts=ts31, debug=False)\n",
    "pb, beta = ores"
   ]
  },
  {
   "cell_type": "code",
   "execution_count": 7,
   "metadata": {},
   "outputs": [
    {
     "name": "stdout",
     "output_type": "stream",
     "text": [
      "beta:\n",
      "[[[0.         0.         1.        ]\n",
      "  [0.         0.02572016 0.16666667]\n",
      "  [0.         0.         0.02777778]]\n",
      "\n",
      " [[0.02083333 0.125      0.        ]\n",
      "  [0.         0.02083333 0.        ]\n",
      "  [0.         0.         0.        ]]\n",
      "\n",
      " [[0.02083333 0.125      0.        ]\n",
      "  [0.         0.02083333 0.        ]\n",
      "  [0.         0.         0.        ]]]\n"
     ]
    }
   ],
   "source": [
    "print(\"beta:\")\n",
    "print(beta)"
   ]
  },
  {
   "cell_type": "code",
   "execution_count": 8,
   "metadata": {},
   "outputs": [
    {
     "name": "stdout",
     "output_type": "stream",
     "text": [
      "p(sent|grammar) = \\sum_{v \\in [1 .. M]} beta(i, i, v) * e_{v}(x_{i}):\n",
      "[0.013888888888888888, 0.013888888888888888, 0.013888888888888888]\n"
     ]
    }
   ],
   "source": [
    "print(\"p(sent|grammar) = \\sum_{v \\in [1 .. M]} beta(i, i, v) * e_{v}(x_{i}):\")\n",
    "print(pb)"
   ]
  },
  {
   "cell_type": "markdown",
   "metadata": {},
   "source": [
    "EM algorithm (see. Durbin p. 255):<br><br>\n",
    "$t_{v}(y, z) = \\frac{c(v->yz)}{c(v)}$<br>\n",
    "$e_{v}(a) = \\frac{c(v->a)}{c(v)}$\n"
   ]
  },
  {
   "cell_type": "code",
   "execution_count": 9,
   "metadata": {
    "collapsed": true
   },
   "outputs": [],
   "source": [
    "t, e, c, c_unterm, c_term = gm.em_step(alpha, beta, sent=list('aae'),\n",
    "                                    grammar=grammar31, ts=ts31,\n",
    "                                    debug=False)\n"
   ]
  },
  {
   "cell_type": "code",
   "execution_count": 10,
   "metadata": {},
   "outputs": [
    {
     "name": "stdout",
     "output_type": "stream",
     "text": [
      "estimated transitions:\n",
      "('E', 'AE') :  0.6666666666666666\n",
      "('E', 'BE') :  0.0\n",
      "('A', 'AE') :  0.0\n",
      "('B', 'BE') :  0\n",
      "('B', 'AE') :  0\n"
     ]
    }
   ],
   "source": [
    "print(\"estimated transitions:\")\n",
    "for rule in t:\n",
    "    print(rule, \": \", t[rule])\n"
   ]
  },
  {
   "cell_type": "code",
   "execution_count": 11,
   "metadata": {},
   "outputs": [
    {
     "name": "stdout",
     "output_type": "stream",
     "text": [
      "estimated emission:\n",
      "('E', 'e') :  0.3333333333333333\n",
      "('A', 'a') :  1.0\n",
      "('A', 'e') :  0.0\n",
      "('B', 'b') :  0\n"
     ]
    }
   ],
   "source": [
    "print(\"estimated emission:\")\n",
    "for rule in e:\n",
    "    print(rule, \": \", e[rule])\n"
   ]
  },
  {
   "cell_type": "markdown",
   "metadata": {},
   "source": [
    "All rules like $W_{v}->W_{y}W_{z}$ and $W_{v}-> a$ sum to 1 for same $W_{v}$:"
   ]
  },
  {
   "cell_type": "code",
   "execution_count": 12,
   "metadata": {},
   "outputs": [
    {
     "name": "stdout",
     "output_type": "stream",
     "text": [
      "1.0\n",
      "1.0\n",
      "0\n"
     ]
    }
   ],
   "source": [
    "for w in [\"E\", \"A\", \"B\"]:\n",
    "    print(sum([t[(v, yz)] for (v, yz) in t if v == w]\n",
    "               + [e[(v, x)] for (v, x) in e if v == w]))"
   ]
  },
  {
   "cell_type": "markdown",
   "metadata": {
    "collapsed": true
   },
   "source": [
    "#### EM alg:\n",
    "generate sentences, and lern SCFG grammar parameters for them"
   ]
  },
  {
   "cell_type": "markdown",
   "metadata": {},
   "source": [
    "1) generate sentences:"
   ]
  },
  {
   "cell_type": "code",
   "execution_count": 13,
   "metadata": {},
   "outputs": [
    {
     "name": "stdout",
     "output_type": "stream",
     "text": [
      "bbebebbbeebabababbeebaeaeaeebbeeaeaeebeebabe\n",
      "abe\n",
      "abaeabeae\n",
      "beebeaeeabeebaeaebee\n",
      "baebeeeae\n",
      "aebabe\n",
      "abe\n"
     ]
    }
   ],
   "source": [
    "grammar = grammar31\n",
    "ts_orign = ts31\n",
    "N = 20\n",
    "max_sent_len = 100\n",
    "# actualy not used\n",
    "sent_len = 4\n",
    "\n",
    "lsents = []\n",
    "idx_max_len = 0\n",
    "max_len = 0\n",
    "\n",
    "while len(lsents) < N:\n",
    "        lsent = gm.backward.gen_sent(grammar, sent_len, probs=ts_orign)\n",
    "\n",
    "        # exclude triviality:\n",
    "        len_lsent = len(lsent)\n",
    "        if (len_lsent > 1 and 'a' in lsent and 'b' in lsent\n",
    "            and len_lsent < max_sent_len):\n",
    "            lsents.append(lsent)\n",
    "            \n",
    "            # max len sent in front:\n",
    "            if len_lsent > max_len:\n",
    "                idx_max_len = len(lsents)-1\n",
    "                max_len = len_lsent\n",
    "\n",
    "# max len sent in front:\n",
    "# for all rules initiated at first\n",
    "# with no zero probabilities:\n",
    "max_sent = lsents.pop(idx_max_len)\n",
    "lsents.insert(0, max_sent)\n",
    "for lsent in lsents[:7]:\n",
    "    print(\"\".join(lsent))"
   ]
  },
  {
   "cell_type": "markdown",
   "metadata": {},
   "source": [
    "2) given sentences and random init SCFG, lern parameters:"
   ]
  },
  {
   "cell_type": "code",
   "execution_count": 14,
   "metadata": {},
   "outputs": [
    {
     "data": {
      "image/png": "[encoded data removed]",
      "text/plain": [
       "<matplotlib.figure.Figure at 0x7fa7226fdb38>"
      ]
     },
     "metadata": {},
     "output_type": "display_data"
    },
    {
     "name": "stdout",
     "output_type": "stream",
     "text": [
      "\n",
      "original ts:\n",
      "('E', 'AE') :  0.25\n",
      "('E', 'BE') :  0.25\n",
      "('E', 'e') :  0.5\n",
      "('A', 'AE') :  0.2962962962962963\n",
      "('A', 'a') :  0.6666666666666666\n",
      "('A', 'e') :  0.037037037037037035\n",
      "('B', 'BE') :  0.32098765432098764\n",
      "('B', 'AE') :  0.012345679012345678\n",
      "('B', 'b') :  0.6666666666666666\n",
      "lerned ts:\n",
      "('E', 'AE') :  0.24057302161788266\n",
      "('E', 'BE') :  0.436404612714747\n",
      "('E', 'e') :  0.3230223656673704\n",
      "('A', 'AE') :  0.007841228385544505\n",
      "('A', 'a') :  0.7551332233328191\n",
      "('A', 'e') :  0.2370255482816363\n",
      "('B', 'BE') :  0.18750040706920365\n",
      "('B', 'AE') :  0.23288155245010772\n",
      "('B', 'b') :  0.5796180404806887\n"
     ]
    }
   ],
   "source": [
    "ts, xs = gm.em(sents=lsents, grammar=grammar,\n",
    "               ts_orign=ts_orign, debug=False)\n",
    "\n",
    "plt.plot(xs.T)\n",
    "plt.show()\n",
    "\n",
    "print(\"\\noriginal ts:\")\n",
    "for rule in ts_orign:\n",
    "    print(rule, \": \", ts_orign[rule])\n",
    "print(\"lerned ts:\")\n",
    "for rule in ts_orign:\n",
    "    if rule in ts:\n",
    "        print(rule, \": \", ts[rule])\n",
    "    else:\n",
    "        pass\n",
    "        # print(rule, \": \", es[rule])\n"
   ]
  },
  {
   "cell_type": "markdown",
   "metadata": {},
   "source": [
    "#### Important note:\n",
    "Depend on initial grammar, lerned SCFG will be different <br>\n",
    "So there is strong dependece on init parameters"
   ]
  },
  {
   "cell_type": "markdown",
   "metadata": {
    "collapsed": true
   },
   "source": [
    "##### CYK algorithm for SCFG"
   ]
  },
  {
   "cell_type": "markdown",
   "metadata": {},
   "source": [
    "##### Example 1:"
   ]
  },
  {
   "cell_type": "markdown",
   "metadata": {},
   "source": [
    "Probability of generate'aae' with grammar"
   ]
  },
  {
   "cell_type": "code",
   "execution_count": 4,
   "metadata": {
    "collapsed": true
   },
   "outputs": [],
   "source": [
    "grammar31 = [('E', 'AE'), ('E', 'BE'), ('E', 'e'),\n",
    "             ('A', 'AE'), ('A', 'a'), ('A', 'e'),\n",
    "             ('B', 'BE'), ('B', 'AE'), ('B', 'b')]\n",
    "\n",
    "ts31 = {\n",
    "    ('E', 'AE'): 1/4, ('E', 'BE'): 1/4, ('E', 'e'): 1/2,\n",
    "    ('A', 'AE'): 8/27, ('A', 'a'): 2/3, ('A', 'e'): 1/27,\n",
    "    ('B', 'BE'): 26/81, ('B', 'AE'): 1/81, ('B', 'b'): 2/3\n",
    "}"
   ]
  },
  {
   "cell_type": "code",
   "execution_count": 65,
   "metadata": {
    "collapsed": true
   },
   "outputs": [],
   "source": [
    "import networkx as nx"
   ]
  },
  {
   "cell_type": "code",
   "execution_count": 10,
   "metadata": {},
   "outputs": [
    {
     "name": "stdout",
     "output_type": "stream",
     "text": [
      "P(sent|grammar31) 0.013888888888888888\n",
      "\n",
      "gammas, tildas:\n",
      "(0, 0, 'A') :  0.6666666666666666 ;  (0, 0, 0)\n",
      "(1, 1, 'A') :  0.6666666666666666 ;  (0, 0, 0)\n",
      "(2, 2, 'E') :  0.5 ;  (0, 0, 0)\n",
      "(1, 1, 'B') :  0 ;  (0, 0, 0)\n",
      "(1, 2, 'E') :  0.08333333333333333 ;  ('A', 'E', 1)\n",
      "(0, 0, 'B') :  0 ;  (0, 0, 0)\n",
      "(1, 1, 'E') :  0 ;  (0, 0, 0)\n",
      "(0, 1, 'A') :  0.0 ;  ('A', 'E', 0)\n",
      "(0, 1, 'B') :  0.0 ;  ('B', 'E', 0)\n",
      "(0, 2, 'E') :  0.013888888888888888 ;  ('A', 'E', 0)\n",
      "idx: (0, 2, 'E')\n",
      "idx: (0, 0, 'A')\n",
      "idx: (1, 2, 'E')\n",
      "idx: (1, 1, 'A')\n",
      "idx: (2, 2, 'E')\n",
      "\n",
      "graph.edges:\n",
      "[('E', 'E->A E 0.667'), ('E', 'Al'), ('E', 'Er'), ('Al', 'a l 0.667'), ('Er', 'Er->A E 0.667'), ('Er', 'Arl'), ('Er', 'Err'), ('Arl', 'a rl 0.667'), ('Err', 'e rr 0.500')]\n"
     ]
    },
    {
     "data": {
      "image/png": "[encoded data removed]",
      "text/plain": [
       "<matplotlib.figure.Figure at 0x7f3775603a90>"
      ]
     },
     "metadata": {},
     "output_type": "display_data"
    }
   ],
   "source": [
    "gammas = {}\n",
    "tildas = {}\n",
    "res = gm.cyk(list('aae'), 0, 2, 'E', gammas, tildas, grammar=grammar31, ts=ts31)\n",
    "print(\"P(sent|grammar31)\", res)\n",
    "print(\"\\ngammas, tildas:\")\n",
    "for idx in gammas:\n",
    "    print(idx, \": \", gammas[idx], \"; \", tildas[idx])\n",
    "g = gm.make_parse_tree(list('aae'), tildas, gammas)\n",
    "print(\"\\ngraph.edges:\")\n",
    "print(g.edges)\n",
    "layout = nx.spring_layout(g)\n",
    "nx.draw(g, pos=layout)\n",
    "nx.draw_networkx_labels(g, layout, font_size=12)\n",
    "plt.show()\n"
   ]
  },
  {
   "cell_type": "markdown",
   "metadata": {},
   "source": [
    "##### Example 2:"
   ]
  },
  {
   "cell_type": "markdown",
   "metadata": {},
   "source": [
    "searching for subjuntives "
   ]
  },
  {
   "cell_type": "code",
   "execution_count": 3,
   "metadata": {},
   "outputs": [],
   "source": [
    "grammar_subjunctive = [\n",
    "            (\"E\", (\"CONDIF\",)), (\"E\", (\"CONDUNLESS\",)),\n",
    "           ('CONDIF', ('IF', 'A', 'B')), \n",
    "           ('CONDUNLESS', ('UNLESS', 'B', 'A', )),\n",
    "           ('CONDUNLESS', ('B', 'UNLESS','A')),\n",
    "           ('A', ('OTHERS', 'PAST', 'OTHERS')), ('A', ('OTHERS', 'HPAST', 'OTHERS')),\n",
    "           ('B', ('OTHERS', 'WOULD', 'OTHERS')), ('B', ('OTHERS', 'WOULD','HPAST','OTHERS')),\n",
    "           \n",
    "           ('IF', ('if',)), ('IF', ('but_for',)), ('IF', ('even_if',)),\n",
    "           ('IF', ('even though', )),\n",
    "           ('IF', ('if where not for', )),\n",
    "           \n",
    "           ('UNLESS', ('unless',)), ('UNLESS', ('in_case',)),\n",
    "           ('UNLESS', ('given',)), ('UNLESS', ('given_that',)),\n",
    "           ('UNLESS', ('provided',)), ('UNLESS', ('provided_that',)),\n",
    "           ('UNLESS', ('providing',)), ('UNLESS', ('providing_that',)),\n",
    "           ('UNLESS', ('granted',)), ('UNLESS', ('granted_that',)),\n",
    "           \n",
    "           ('HPAST', ('HAVE', 'PAST')), ('HPAST', ('HAVE', 'PAST')),\n",
    "        ('HAVE', ('have',)), ('HAVE', ('had',)),\n",
    " \n",
    "           ('PAST', ('past', )),\n",
    "           \n",
    "           ('WOULD', ('would',)), ('WOULD', ('should',)),\n",
    "           ('WOULD', ('could',)), ('WOULD', ('might',)),\n",
    "           \n",
    "           ('OTHERS', ('e',))]\n"
   ]
  },
  {
   "cell_type": "code",
   "execution_count": 4,
   "metadata": {
    "collapsed": true
   },
   "outputs": [],
   "source": [
    "import grammars as gm0"
   ]
  },
  {
   "cell_type": "markdown",
   "metadata": {},
   "source": [
    "To cnf:"
   ]
  },
  {
   "cell_type": "code",
   "execution_count": 5,
   "metadata": {},
   "outputs": [
    {
     "data": {
      "text/plain": [
       "[('E', ('IF', 'CONDIF1')),\n",
       " ('OTHERS', ('e',)),\n",
       " ('WOULD', ('might',)),\n",
       " ('WOULD', ('could',)),\n",
       " ('WOULD', ('should',)),\n",
       " ('WOULD', ('would',)),\n",
       " ('PAST', ('past',)),\n",
       " ('HAVE', ('had',)),\n",
       " ('HAVE', ('have',)),\n",
       " ('HPAST', ('HAVE', 'PAST')),\n",
       " ('UNLESS', ('granted_that',)),\n",
       " ('UNLESS', ('granted',)),\n",
       " ('UNLESS', ('providing_that',)),\n",
       " ('UNLESS', ('providing',)),\n",
       " ('UNLESS', ('provided_that',)),\n",
       " ('UNLESS', ('provided',)),\n",
       " ('UNLESS', ('given_that',)),\n",
       " ('UNLESS', ('given',)),\n",
       " ('UNLESS', ('in_case',)),\n",
       " ('UNLESS', ('unless',)),\n",
       " ('IF', ('if where not for',)),\n",
       " ('IF', ('even though',)),\n",
       " ('IF', ('even_if',)),\n",
       " ('IF', ('but_for',)),\n",
       " ('IF', ('if',)),\n",
       " ('B12', ('HPAST', 'OTHERS')),\n",
       " ('B1', ('WOULD', 'B12')),\n",
       " ('B', ('OTHERS', 'B1')),\n",
       " ('B1', ('WOULD', 'OTHERS')),\n",
       " ('A1', ('HPAST', 'OTHERS')),\n",
       " ('A', ('OTHERS', 'A1')),\n",
       " ('A1', ('PAST', 'OTHERS')),\n",
       " ('CONDUNLESS1', ('UNLESS', 'A')),\n",
       " ('CONDUNLESS', ('B', 'CONDUNLESS1')),\n",
       " ('CONDUNLESS1', ('B', 'A')),\n",
       " ('CONDUNLESS', ('UNLESS', 'CONDUNLESS1')),\n",
       " ('CONDIF1', ('A', 'B')),\n",
       " ('CONDIF', ('IF', 'CONDIF1')),\n",
       " ('E', ('B', 'CONDUNLESS1')),\n",
       " ('E', ('UNLESS', 'CONDUNLESS1'))]"
      ]
     },
     "execution_count": 5,
     "metadata": {},
     "output_type": "execute_result"
    }
   ],
   "source": [
    "grammar_subjunctive_cnf = gm0.gm_to_cnf(grammar_subjunctive)\n",
    "grammar_subjunctive_cnf"
   ]
  },
  {
   "cell_type": "markdown",
   "metadata": {},
   "source": [
    "Train data:"
   ]
  },
  {
   "cell_type": "code",
   "execution_count": 7,
   "metadata": {},
   "outputs": [],
   "source": [
    "second_type = '''1. I should go immediately unless you wanted me to wait.\n",
    " 3. They\n",
    "would respond in some way provided they could really \n",
    "understand the significance of the fact. 4. Granted our actions\n",
    "were correct we could achieve the goal. 5. Given that the\n",
    "system remained uneffected it could be used repeatedly. 6. If it\n",
    "were possible to know all about something and if the world did\n",
    "not keep changing then we could be sure that our past\n",
    "experience would be a perfect guide for the future.'''\n",
    "\n",
    "third_type = '''1. We would have effected a change in the plan, if we had\n",
    "had time. 2. They would have done something provided they\n",
    "could have understood the significance of the fact. 3. If our\n",
    "actions had been correct we could have achieved the goal.\n",
    "4. Even though the system had remained uneffected it could not\n",
    "be used in this case. 5. But for our past experiences, we could\n",
    "not have understood their mistake. 6. If you had not brought\n",
    "the money, we would not have bought the tickets.'''\n",
    "\n",
    "second_type = list(filter(lambda sent: len(sent) > 3, second_type.replace('\\n', \" \").split('. ')))\n",
    "third_type = list(filter(lambda sent: len(sent) > 3, third_type.replace('\\n', \" \").split('. ')))"
   ]
  },
  {
   "cell_type": "code",
   "execution_count": 8,
   "metadata": {},
   "outputs": [
    {
     "data": {
      "text/plain": [
       "['I should go immediately unless you wanted me to wait',\n",
       " 'They would respond in some way provided they could really  understand the significance of the fact',\n",
       " 'Granted our actions were correct we could achieve the goal',\n",
       " 'Given that the system remained uneffected it could be used repeatedly',\n",
       " 'If it were possible to know all about something and if the world did not keep changing then we could be sure that our past experience would be a perfect guide for the future.']"
      ]
     },
     "execution_count": 8,
     "metadata": {},
     "output_type": "execute_result"
    }
   ],
   "source": [
    "second_type"
   ]
  },
  {
   "cell_type": "code",
   "execution_count": 9,
   "metadata": {},
   "outputs": [],
   "source": [
    "tags = ['would', 'should', 'could', 'might',\n",
    "        'if', 'unless', 'given', 'provided', 'providing', 'granted',\n",
    "        'have', 'had'\n",
    "       ]\n",
    "tags_complex = ['but for', 'even if', 'even though', 'if where not for',\n",
    "         'in case', 'given that',  'provided that',\n",
    "         'providing that',  'granted that']\n",
    "\n",
    "tags_complex_s = list(map(lambda tag: tag.replace(\" \", \"_\"), tags_complex))\n",
    "\n",
    "def convert(sent):\n",
    "    for tag in tags_complex:\n",
    "        sent = sent.replace(tag, tag.replace(\" \", \"_\"))\n",
    "    lsent = sent.split()\n",
    "    # print(lsent)\n",
    "    nlsent = []\n",
    "    for word in lsent:\n",
    "        if word not in tags and word not in tags_complex_s:\n",
    "            if len(nlsent) == 0 or len(nlsent) > 0 and nlsent[-1] != 'e':\n",
    "                nlsent.append(\"e\")        \n",
    "        else:\n",
    "            nlsent.append(word)\n",
    "    \n",
    "    return(nlsent)\n",
    "    # return(\" \".join(nlsent))\n",
    "\n",
    "train_second = list(map(lambda sent: convert(sent.lower()), second_type))\n",
    "train_third = list(map(lambda sent: convert(sent.lower()), third_type))"
   ]
  },
  {
   "cell_type": "code",
   "execution_count": 10,
   "metadata": {},
   "outputs": [
    {
     "data": {
      "text/plain": [
       "[['e', 'should', 'e', 'unless', 'e'],\n",
       " ['e', 'would', 'e', 'provided', 'e', 'could', 'e'],\n",
       " ['granted', 'e', 'could', 'e'],\n",
       " ['given_that', 'e', 'could', 'e'],\n",
       " ['if', 'e', 'if', 'e', 'could', 'e', 'would', 'e']]"
      ]
     },
     "execution_count": 10,
     "metadata": {},
     "output_type": "execute_result"
    }
   ],
   "source": [
    "train_second"
   ]
  },
  {
   "cell_type": "code",
   "execution_count": 6,
   "metadata": {
    "collapsed": true
   },
   "outputs": [],
   "source": [
    "import grammars1 as gm\n",
    "import networkx as nx"
   ]
  },
  {
   "cell_type": "markdown",
   "metadata": {},
   "source": [
    "Todo: find verbs in sent"
   ]
  },
  {
   "cell_type": "markdown",
   "metadata": {},
   "source": []
  },
  {
   "cell_type": "code",
   "execution_count": 8,
   "metadata": {},
   "outputs": [
    {
     "name": "stdout",
     "output_type": "stream",
     "text": [
      "probs:\n",
      "('OTHERS', ('e',)) :  1.0\n",
      "('WOULD', ('might',)) :  0.029313124321773458\n",
      "('WOULD', ('could',)) :  0.3966527689083706\n",
      "('WOULD', ('should',)) :  0.08118237170053201\n",
      "('WOULD', ('would',)) :  0.49285173506932395\n",
      "('PAST', ('past',)) :  1.0\n",
      "('HAVE', ('had',)) :  0.6972352681031924\n",
      "('HAVE', ('have',)) :  0.3027647318968077\n",
      "('UNLESS', ('granted_that',)) :  0.019719583521016236\n",
      "('UNLESS', ('granted',)) :  0.09735931420732905\n",
      "('UNLESS', ('providing_that',)) :  0.0008277166773199231\n",
      "('UNLESS', ('providing',)) :  0.21362592706999362\n",
      "('UNLESS', ('provided_that',)) :  0.08827121412353747\n",
      "('UNLESS', ('provided',)) :  0.24532871498957784\n",
      "('UNLESS', ('given_that',)) :  0.04754876936425638\n",
      "('UNLESS', ('given',)) :  0.0430384314678675\n",
      "('UNLESS', ('in_case',)) :  8.981702943104276e-05\n",
      "('UNLESS', ('unless',)) :  0.24419051154967109\n",
      "('IF', ('if where not for',)) :  0.05091971131864749\n",
      "('IF', ('even though',)) :  0.11143653111849987\n",
      "('IF', ('even_if',)) :  0.07431109880160133\n",
      "('IF', ('but_for',)) :  0.7491723954710062\n",
      "('IF', ('if',)) :  0.014160263290245082\n",
      "('E', ('IF', 'CONDIF1')) :  0.27730890260028385\n",
      "('HPAST', ('HAVE', 'PAST')) :  1.0\n",
      "('B12', ('HPAST', 'OTHERS')) :  0.9999999999999999\n",
      "('B1', ('WOULD', 'B12')) :  0.2207289441933805\n",
      "('B', ('OTHERS', 'B1')) :  1.0\n",
      "('B1', ('WOULD', 'OTHERS')) :  0.7792710558066195\n",
      "('A1', ('HPAST', 'OTHERS')) :  0.3260239681773064\n",
      "('A', ('OTHERS', 'A1')) :  1.0\n",
      "('A1', ('PAST', 'OTHERS')) :  0.6739760318226935\n",
      "('CONDUNLESS1', ('UNLESS', 'A')) :  0.4969007148066914\n",
      "('CONDUNLESS', ('B', 'CONDUNLESS1')) :  0.039400490382224734\n",
      "('CONDUNLESS1', ('B', 'A')) :  0.5030992851933085\n",
      "('CONDUNLESS', ('UNLESS', 'CONDUNLESS1')) :  0.9605995096177752\n",
      "('CONDIF1', ('A', 'B')) :  1.0\n",
      "('CONDIF', ('IF', 'CONDIF1')) :  1.0\n",
      "('E', ('B', 'CONDUNLESS1')) :  0.5826399098774979\n",
      "('E', ('UNLESS', 'CONDUNLESS1')) :  0.1400511875222182\n",
      "idx: (0, 6, 'E')\n",
      "idx: (0, 2, 'B')\n",
      "idx: (0, 0, 'OTHERS')\n",
      "idx: (1, 2, 'B1')\n",
      "idx: (1, 1, 'WOULD')\n",
      "idx: (2, 2, 'OTHERS')\n",
      "idx: (3, 6, 'CONDUNLESS1')\n",
      "idx: (3, 3, 'UNLESS')\n",
      "idx: (4, 6, 'A')\n",
      "idx: (4, 4, 'OTHERS')\n",
      "idx: (5, 6, 'A1')\n",
      "idx: (5, 5, 'PAST')\n",
      "idx: (6, 6, 'OTHERS')\n"
     ]
    },
    {
     "data": {
      "image/png": "[encoded data removed]",
      "text/plain": [
       "<matplotlib.figure.Figure at 0x7fc7ae58eef0>"
      ]
     },
     "metadata": {},
     "output_type": "display_data"
    }
   ],
   "source": [
    "gammas = {}\n",
    "tildas = {}\n",
    "\n",
    "# supposed knew how to find past form of verbs:\n",
    "sent = [('e',), ('should',), ('e',), ('unless',), ('e',), ('past',), ('e',)]\n",
    "\n",
    "# sent = [('e',), ('should',), ('e',), ('unless',), ('e',)]\n",
    "L = len(sent) - 1\n",
    "res = gm.cyk(sent, 0, L, 'E', gammas, tildas,\n",
    "             grammar=grammar_subjunctive_cnf,)\n",
    "# print(\"P(sent|grammar31)\", res)\n",
    "# print(\"\\ngammas, tildas:\")\n",
    "# for idx in gammas:\n",
    "#     print(idx, \": \", gammas[idx], \"; \", tildas[idx])\n",
    "g = gm.make_parse_tree(sent, tildas, gammas)\n",
    "# print(\"\\ngraph.edges:\")\n",
    "# print(g.edges)\n",
    "layout = nx.spring_layout(g)\n",
    "nx.draw(g, pos=layout)\n",
    "nx.draw_networkx_labels(g, layout, font_size=12)\n",
    "plt.show()"
   ]
  },
  {
   "cell_type": "markdown",
   "metadata": {},
   "source": [
    "### Others:"
   ]
  },
  {
   "cell_type": "code",
   "execution_count": 79,
   "metadata": {},
   "outputs": [
    {
     "data": {
      "text/plain": [
       "[('might',), ('could',), ('should',), ('would',)]"
      ]
     },
     "execution_count": 79,
     "metadata": {},
     "output_type": "execute_result"
    }
   ],
   "source": [
    "fgrammar = gm.factorize(grammar_subjunctive_cnf)\n",
    "fgrammar['WOULD']"
   ]
  },
  {
   "cell_type": "code",
   "execution_count": null,
   "metadata": {
    "collapsed": true
   },
   "outputs": [],
   "source": []
  },
  {
   "cell_type": "code",
   "execution_count": 85,
   "metadata": {},
   "outputs": [
    {
     "data": {
      "text/plain": [
       "False"
      ]
     },
     "execution_count": 85,
     "metadata": {},
     "output_type": "execute_result"
    }
   ],
   "source": [
    "ts = gm.backward.get_probabilities_all(grammar_subjunctive_cnf)\n",
    "('IF', 'if') in ts"
   ]
  },
  {
   "cell_type": "code",
   "execution_count": null,
   "metadata": {
    "collapsed": true
   },
   "outputs": [],
   "source": []
  }
 ],
 "metadata": {
  "kernelspec": {
   "display_name": "Python [conda env:math]",
   "language": "python",
   "name": "conda-env-math-py"
  },
  "language_info": {
   "codemirror_mode": {
    "name": "ipython",
    "version": 3
   },
   "file_extension": ".py",
   "mimetype": "text/x-python",
   "name": "python",
   "nbconvert_exporter": "python",
   "pygments_lexer": "ipython3",
   "version": "3.6.2"
  }
 },
 "nbformat": 4,
 "nbformat_minor": 2
}
